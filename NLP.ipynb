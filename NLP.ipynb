{
 "cells": [
  {
   "cell_type": "markdown",
   "metadata": {},
   "source": [
    "# Natural Language Processing with Spark"
   ]
  },
  {
   "cell_type": "markdown",
   "metadata": {},
   "source": [
    "## Overview\n",
    "The essence of this work is to implement pyspark in predicting the categories or tags to which a question belongs. The data used is from stackoverflow one tag train data in json format. For tech exhange sites e.g, stackoverflow it is important to know the most frequent question categories or tags so that the most common ones can be promptly and/or better addressed."
   ]
  },
  {
   "cell_type": "code",
   "execution_count": 13,
   "metadata": {},
   "outputs": [],
   "source": [
    "import findspark\n",
    "findspark.init('/home/ecomog/spark-2.4.3-bin-hadoop2.7')\n",
    "import pyspark\n",
    "\n",
    "from pyspark.sql import SparkSession\n",
    "from pyspark.sql.functions import avg, col, concat,count, desc, explode, lit, min, max, split, stddev, udf\n",
    "from pyspark.sql.types import IntegerType\n",
    "\n",
    "from pyspark.ml import Pipeline\n",
    "from pyspark.ml.classification import LogisticRegression\n",
    "from pyspark.ml.evaluation import MulticlassClassificationEvaluator\n",
    "from pyspark.ml.feature import CountVectorizer, IDF, Normalizer, PCA, RegexTokenizer, StandardScaler, MinMaxScaler, StopWordsRemover, StringIndexer, VectorAssembler\n",
    "from pyspark.ml.regression import LinearRegression\n",
    "from pyspark.ml.tuning import CrossValidator, ParamGridBuilder\n",
    "\n",
    "import re"
   ]
  },
  {
   "cell_type": "code",
   "execution_count": 2,
   "metadata": {},
   "outputs": [],
   "source": [
    "spark = SparkSession.builder \\\n",
    "    .master(\"local\") \\\n",
    "    .appName(\"nlp\") \\\n",
    "    .getOrCreate()"
   ]
  },
  {
   "cell_type": "code",
   "execution_count": 3,
   "metadata": {},
   "outputs": [
    {
     "data": {
      "text/plain": [
       "DataFrame[Body: string, Id: bigint, Tags: string, Title: string, oneTag: string]"
      ]
     },
     "execution_count": 3,
     "metadata": {},
     "output_type": "execute_result"
    }
   ],
   "source": [
    "df = spark.read.json('train_onetag.json')\n",
    "df.persist()"
   ]
  },
  {
   "cell_type": "markdown",
   "metadata": {},
   "source": [
    "## Data Exploration"
   ]
  },
  {
   "cell_type": "code",
   "execution_count": 5,
   "metadata": {},
   "outputs": [
    {
     "data": {
      "text/plain": [
       "[Row(Body=\"<p>I'd like to check if an uploaded file is an image file (e.g png, jpg, jpeg, gif, bmp) or another file. The problem is that I'm using Uploadify to upload the files, which changes the mime type and gives a 'text/octal' or something as the mime type, no matter which file type you upload.</p>\\n\\n<p>Is there a way to check if the uploaded file is an image apart from checking the file extension using PHP?</p>\\n\", Id=1, Tags='php image-processing file-upload upload mime-types', Title='How to check if an uploaded file is an image without mime type?', oneTag='php'),\n",
       " Row(Body='<p>In my favorite editor (vim), I regularly use ctrl-w to execute a certain action. Now, it quite often happens to me that firefox is the active window (on windows) while I still look at vim (thinking vim is the active window) and press ctrl-w which closes firefox. This is not what I want. Is there a way to stop ctrl-w from closing firefox?</p>\\n\\n<p>Rene</p>\\n', Id=2, Tags='firefox', Title='How can I prevent firefox from closing when I press ctrl-w', oneTag='firefox'),\n",
       " Row(Body='<p>I am import matlab file and construct a data frame, matlab file contains two columns with and each row maintain a cell that has a matrix, I construct a dataframe to run random forest. But I am getting following error. </p>\\n\\n<pre><code>Error in model.frame.default(formula = expert_data_frame$t_labels ~ .,  : \\n  invalid type (list) for variable \\'expert_data_frame$t_labels\\'\\n</code></pre>\\n\\n<p>Here is the code how I import the matlab file and construct the dataframe:</p>\\n\\n<pre><code>all_exp_traintest &lt;- readMat(all_exp_filepath);\\nlen = length(all_exp_traintest$exp.traintest)/2;\\n    for (i in 1:len) {\\n      expert_train_df &lt;- data.frame(all_exp_traintest$exp.traintest[i]);\\n      labels = data.frame(all_exp_traintest$exp.traintest[i+302]);\\n      names(labels)[1] &lt;- \"t_labels\";\\n      expert_train_df$t_labels &lt;- labels;\\n      expert_data_frame &lt;- data.frame(expert_train_df);\\n      rf_model = randomForest(expert_data_frame$t_labels ~., data=expert_data_frame, importance=TRUE, do.trace=100);\\n    }\\n</code></pre>\\n\\n<p>Structure of the Matlab input file</p>\\n\\n<pre><code>[56x12 double]    [56x1 double]\\n[62x12 double]    [62x1 double]\\n[62x12 double]    [62x1 double]\\n[62x12 double]    [62x1 double]\\n[62x12 double]    [62x1 double]\\n[74x12 double]    [74x1 double]\\n\\n\\n&gt; str(all_exp_traintest)\\nList of 1\\n $ exp.traintest:List of 604\\n  ..$ NA: num [1:56, 1:12] 0 0 0 0 8 1 1 0 0 0 ...\\n  ..$ NA: num [1:62, 1:12] 2 10 11 13 5 10 13 8 11 8 ...\\n  ..$ NA: num [1:62, 1:12] 0 0 1 0 0 0 0 0 1 1 ...\\n  ..$ NA: num [1:62, 1:12] 4 2 1 3 3 20 6 3 2 2 ...\\n  ..$ NA: num [1:62, 1:12] 2731 2362 2937 1229 1898 ...\\n  ..$ NA: num [1:74, 1:12] 27 33 34 38 33 35 36 35 47 46 ...\\n  ..$ NA: num [1:74, 1:12] 106 79 99 94 153 104 146 105 125 146 ...\\n  ..$ NA: num [1:74, 1:12] 3 9 3 0 1 26 0 4 0 0 ...\\n  ..$ NA: num [1:51, 1:12] 5 7 3 30 0 0 0 0 0 0 ...\\n  ..$ NA: num [1:66, 1:12] 0 0 13 0 0 3 2 2 0 2 ...\\n  ..$ NA: num [1:73, 1:12] 1 0 1 0 0 0 2 1 2 5 ...\\n  ..$ NA: num [1:73, 1:12] 23 14 20 14 24 22 32 61 84 278 ...\\n  ..$ NA: num [1:75, 1:12] 1 7 0 1 2 3 3 0 16 10 ...\\n  ..$ NA: num [1:90, 1:12] 10 7 8 15 25 12 37 31 18 48 ...\\n  ..$ NA: num [1:90, 1:12] 0 6 3 1 5 7 8 6 1 1 ...\\n  ..$ NA: num [1:90, 1:12] 0 1 1 2 0 4 9 6 3 4 ...\\n  ..$ NA: num [1:90, 1:12] 6 0 5 27 11 50 22 8 10 4 ...\\n  ..$ NA: num [1:90, 1:12] 3 9 13 12 4 0 5 0 5 0 ...\\n  ..$ NA: num [1:90, 1:12] 1 0 1 0 1 2 1 0 1 2 ...\\n  ..$ NA: num [1:90, 1:12] 3395 3400 3360 3770 3533 ...\\n  ..$ NA: num [1:84, 1:12] 0 0 0 0 5 0 0 5 4 2 ...\\n  ..$ NA: num [1:80, 1:12] 2 3 3 3 4 28 61 26 8 1 ...\\n  ..$ NA: num [1:81, 1:12] 4 28 22 9 16 43 80 21 19 18 ...\\n  ..$ NA: num [1:76, 1:12] 1 0 0 1 49 64 60 230 222 267 ...\\n  ..$ NA: num [1:76, 1:12] 4786 4491 2510 1144 2071 ...\\n  ..$ NA: num [1:76, 1:12] 80 128 254 109 114 267 152 139 368 363 ...\\n  ..$ NA: num [1:76, 1:12] 1 5 8 2 14 5 3 13 8 2 ...\\n  ..$ NA: num [1:76, 1:12] 10 3 8 79 4 4 11 30 2 0 ...\\n  ..$ NA: num [1:68, 1:12] 0 0 2 0 0 2 6 0 0 4 ...\\n  ..$ NA: num [1:68, 1:12] 1 4 5 2 2 3 3 1 3 0 ...\\n  ..$ NA: num [1:68, 1:12] 0 0 1 0 0 0 0 0 0 1 ...\\n  ..$ NA: num [1:69, 1:12] 39 45 2 0 1 4 3 0 13 0 ...\\n  ..$ NA: num [1:69, 1:12] 0 4 6 0 0 4 1 6 10 1 ...\\n  ..$ NA: num [1:69, 1:12] 0 2 5 2 2 2 0 0 3 6 ...\\n  ..$ NA: num [1:69, 1:12] 3 0 1 1 1 4 7 5 5 1 ...\\n  ..$ NA: num [1:66, 1:12] 5 0 0 0 0 0 0 1 3 5 ...\\n  ..$ NA: num [1:66, 1:12] 4 3 3 0 0 4 0 0 0 0 ...\\n  ..$ NA: num [1:65, 1:12] 0 0 1 0 0 0 5 8 4 1 ...\\n  ..$ NA: num [1:65, 1:12] 0 5 6 0 2 0 0 1 1 2 ...\\n  ..$ NA: num [1:69, 1:12] 0 16 5 1 14 0 1 0 0 16 ...\\n  ..$ NA: num [1:69, 1:12] 0 0 0 0 0 25 2 3 0 0 ...\\n  ..$ NA: num [1:64, 1:12] 2 0 0 0 0 0 0 0 0 0 ...\\n  ..$ NA: num [1:42, 1:12] 0 0 0 0 0 0 0 0 0 0 ...\\n  ..$ NA: num [1:67, 1:12] 0 2 4 10 15 4 1 43 1 7 ...\\n  ..$ NA: num [1:63, 1:12] 32 6 12 5 92 8 29 7 21 20 ...\\n  ..$ NA: num [1:63, 1:12] 2 5 12 8 10 13 6 11 10 14 ...\\n  ..$ NA: num [1:63, 1:12] 3 5 10 9 0 1 8 13 2 14 ...\\n  ..$ NA: num [1:54, 1:12] 0 0 14 0 0 0 0 0 0 1 ...\\n  ..$ NA: num [1:82, 1:12] 152 99 63 57 105 44 28 33 43 49 ...\\n  ..$ NA: num [1:81, 1:12] 0 1 0 0 0 0 0 0 0 0 ...\\n  ..$ NA: num [1:75, 1:12] 0 1 3 0 0 0 0 0 0 0 ...\\n  ..$ NA: num [1:75, 1:12] 1 0 0 2 0 1 0 0 0 0 ...\\n  ..$ NA: num [1:75, 1:12] 1 6 5 5 3 8 1 3 1 0 ...\\n  ..$ NA: num [1:72, 1:12] 0 0 0 0 1 0 1 2 0 0 ...\\n  ..$ NA: num [1:62, 1:12] 310 91 4 4 9 0 0 1 0 0 ...\\n  ..$ NA: num [1:62, 1:12] 239 374 1060 599 805 808 139 150 490 326 ...\\n  ..$ NA: num [1:49, 1:12] 9 18 10 12 19 5 13 10 2 3 ...\\n  ..$ NA: num [1:61, 1:12] 2 0 0 0 1 0 0 0 0 0 ...\\n  ..$ NA: num [1:61, 1:12] 4 10 16 15 8 14 10 23 11 5 ...\\n  ..$ NA: num [1:61, 1:12] 0 1 4 4 5 3 0 1 1 1 ...\\n  ..$ NA: num [1:65, 1:12] 165 100 177 65 148 58 188 55 59 62 ...\\n  ..$ NA: num [1:65, 1:12] 13 0 0 2 2 3 0 0 0 0 ...\\n  ..$ NA: num [1:66, 1:12] 157 58 101 92 15 21 73 80 78 75 ...\\n  ..$ NA: num [1:66, 1:12] 8 6 1 0 6 2 2 6 10 9 ...\\n  ..$ NA: num [1:87, 1:12] 1 2 5 6 8 3 3 3 2 3 ...\\n  ..$ NA: num [1:83, 1:12] 0 0 0 0 0 0 2 13 0 0 ...\\n  ..$ NA: num [1:81, 1:12] 0 0 1 0 3 5 3 0 2 7 ...\\n  ..$ NA: num [1:81, 1:12] 33 81 94 30 5 36 16 90 121 182 ...\\n  ..$ NA: num [1:81, 1:12] 10 11 16 6 0 0 0 1 0 0 ...\\n  ..$ NA: num [1:81, 1:12] 7 0 0 2 1 3 1 4 0 0 ...\\n  ..$ NA: num [1:81, 1:12] 1 0 5 0 2 3 1 0 1 1 ...\\n  ..$ NA: num [1:95, 1:12] 30 160 116 130 444 515 225 135 108 175 ...\\n  ..$ NA: num [1:95, 1:12] 12 1 0 10 3 3 0 4 0 0 ...\\n  ..$ NA: num [1:95, 1:12] 1 0 0 0 3 3 1 0 0 0 ...\\n  ..$ NA: num [1:95, 1:12] 11 42 61 23 41 56 81 6 83 82 ...\\n  ..$ NA: num [1:95, 1:12] 1 2 5 3 6 4 2 8 28 1 ...\\n  ..$ NA: num [1:95, 1:12] 283 192 377 216 207 261 394 262 262 554 ...\\n  ..$ NA: num [1:94, 1:12] 0 0 0 0 0 0 0 0 0 0 ...\\n  ..$ NA: num [1:72, 1:12] 0 0 0 0 0 0 0 0 0 0 ...\\n  ..$ NA: num [1:72, 1:12] 5 3 0 2 13 27 6 2 12 36 ...\\n  ..$ NA: num [1:72, 1:12] 0 2 2 0 1 0 1 4 2 2 ...\\n  ..$ NA: num [1:72, 1:12] 0 0 1 0 3 1 0 4 1 0 ...\\n  ..$ NA: num [1:67, 1:12] 27 7 18 1 2 0 0 0 0 0 ...\\n  ..$ NA: num [1:67, 1:12] 10 2 1 10 7 0 0 1 1 4 ...\\n  ..$ NA: num [1:67, 1:12] 14 17 9 20 13 20 18 13 10 7 ...\\n  ..$ NA: num [1:64, 1:12] 0 0 0 0 4 0 0 0 3 0 ...\\n  ..$ NA: num [1:64, 1:12] 3 0 1 0 2 7 13 14 4 2 ...\\n  ..$ NA: num [1:64, 1:12] 0 0 0 0 0 0 0 0 2 0 ...\\n  ..$ NA: num [1:72, 1:12] 59 61 55 120 49 202 325 244 377 551 ...\\n  ..$ NA: num [1:72, 1:12] 0 0 0 0 0 0 0 0 1 0 ...\\n  ..$ NA: num [1:72, 1:12] 0 3 1 0 1 0 0 0 4 0 ...\\n  ..$ NA: num [1:72, 1:12] 5 12 6 9 15 10 15 27 15 9 ...\\n  ..$ NA: num [1:72, 1:12] 7 0 3 0 0 1 1 1 1 0 ...\\n  ..$ NA: num [1:72, 1:12] 0 0 0 0 89 0 19 3 3 2 ...\\n  ..$ NA: num [1:61, 1:12] 5 3 5 3 3 29 46 140 49 24 ...\\n  ..$ NA: num [1:63, 1:12] 23 0 0 0 0 60 7 73 13 19 ...\\n  ..$ NA: num [1:95, 1:12] 7 96 28 2 9 5 8 190 166 1 ...\\n  ..$ NA: num [1:95, 1:12] 0 0 1 1 0 0 0 0 0 0 ...\\n  ..$ NA: num [1:95, 1:12] 4 0 2 6 6 11 6 5 6 9 ...\\n  .. [list output truncated]\\n - attr(*, \"header\")=List of 3\\n  ..$ description: chr \"MATLAB 5.0 MAT-file, Platform: MACI64, Created on: Sun Dec  9 17:35:24 2012                                         \"\\n  ..$ version    : chr \"5\"\\n  ..$ endian     : chr \"little\"\\n</code></pre>\\n\\n<p>After loading the matlab file into R</p>\\n\\n<pre><code>all_exp_traintest$exp.traintest[1]\\n$&lt;NA&gt;\\n      [,1] [,2]  [,3]   [,4]   [,5]    [,6]     [,7]      [,8]       [,9]       [,10]        [,11]        [,12]\\n [1,]    0  0.0  0.00  0.000 0.5000 0.03125 0.015625 0.0000000 0.00000000 0.000000000 0.0000000000 0.0000000000\\n [2,]    0  0.0  0.00  1.000 0.0625 0.03125 0.000000 0.0000000 0.00000000 0.000000000 0.0000000000 0.0000000000\\n [3,]    0  0.0  2.00  0.125 0.0625 0.00000 0.000000 0.0000000 0.00000000 0.000000000 0.0000000000 0.0000000000\\n [4,]    0  4.0  0.25  0.125 0.0000 0.00000 0.000000 0.0000000 0.00000000 0.000000000 0.0000000000 0.0009765625\\n [5,]    8  0.5  0.25  0.000 0.0000 0.00000 0.000000 0.0000000 0.00000000 0.000000000 0.0019531250 0.0000000000\\n [6,]    1  0.5  0.00  0.000 0.0000 0.00000 0.000000 0.0000000 0.00000000 0.003906250 0.0000000000 0.0004882812\\n [7,]    1  0.0  0.00  0.000 0.0000 0.00000 0.000000 0.0000000 0.00781250 0.000000000 0.0009765625 0.0009765625\\n [8,]    0  0.0  0.00  0.000 0.0000 0.00000 0.000000 0.0156250 0.00000000 0.001953125 0.0019531250 0.0000000000\\n [9,]    0  0.0  0.00  0.000 0.0000 0.00000 0.031250 0.0000000 0.00390625 0.003906250 0.0000000000 0.0004882812\\n[10,]    0  0.0  0.00  0.000 0.0000 0.06250 0.000000 0.0078125 0.00781250 0.000000000 0.0009765625 0.0000000000\\n[11,]    0  0.0  0.00  0.000 0.1250 0.00000 0.015625 0.0156250 0.00000000 0.001953125 0.0000000000 0.0000000000\\n[12,]    0  0.0  0.00  0.250 0.0000 0.03125 0.031250 0.0000000 0.00390625 0.000000000 0.0000000000 0.0004882812\\n[13,]    0  0.0  0.50  0.000 0.0625 0.06250 0.000000 0.0078125 0.00000000 0.000000000 0.0009765625 0.0000000000\\n[14,]    0  1.0  0.00  0.125 0.1250 0.00000 0.015625 0.0000000 0.00000000 0.001953125 0.0000000000 0.0024414062\\n[15,]    2  0.0  0.25  0.250 0.0000 0.03125 0.000000 0.0000000 0.00390625 0.000000000 0.0048828125 0.0014648438\\n[16,]    0  0.5  0.50  0.000 0.0625 0.00000 0.000000 0.0078125 0.00000000 0.009765625 0.0029296875 0.0039062500\\n[17,]    1  1.0  0.00  0.125 0.0000 0.00000 0.015625 0.0000000 0.01953125 0.005859375 0.0078125000 0.0151367188\\n[18,]    2  0.0  0.25  0.000 0.0000 0.03125 0.000000 0.0390625 0.01171875 0.015625000 0.0302734375 0.0019531250\\n[19,]    0  0.5  0.00  0.000 0.0625 0.00000 0.078125 0.0234375 0.03125000 0.060546875 0.0039062500 0.0029296875\\n[20,]    1  0.0  0.00  0.125 0.0000 0.15625 0.046875 0.0625000 0.12109375 0.007812500 0.0058593750 0.0253906250\\n[21,]    0  0.0  0.25  0.000 0.3125 0.09375 0.125000 0.2421875 0.01562500 0.011718750 0.0507812500 0.0253906250\\n[22,]    0  0.5  0.00  0.625 0.1875 0.25000 0.484375 0.0312500 0.02343750 0.101562500 0.0507812500 0.0063476562\\n[23,]    1  0.0  1.25  0.375 0.5000 0.96875 0.062500 0.0468750 0.20312500 0.101562500 0.0126953125 0.0009765625\\n[24,]    0  2.5  0.75  1.000 1.9375 0.12500 0.093750 0.4062500 0.20312500 0.025390625 0.0019531250 0.0000000000\\n[25,]    5  1.5  2.00  3.875 0.2500 0.18750 0.812500 0.4062500 0.05078125 0.003906250 0.0000000000 0.0019531250\\n[26,]    3  4.0  7.75  0.500 0.3750 1.62500 0.812500 0.1015625 0.00781250 0.000000000 0.0039062500 0.0029296875\\n[27,]    8 15.5  1.00  0.750 3.2500 1.62500 0.203125 0.0156250 0.00000000 0.007812500 0.0058593750 0.0009765625\\n[28,]   31  2.0  1.50  6.500 3.2500 0.40625 0.031250 0.0000000 0.01562500 0.011718750 0.0019531250 0.0000000000\\n[29,]    4  3.0 13.00  6.500 0.8125 0.06250 0.000000 0.0312500 0.02343750 0.003906250 0.0000000000 0.0083007812\\n[30,]    6 26.0 13.00  1.625 0.1250 0.00000 0.062500 0.0468750 0.00781250 0.000000000 0.0166015625 0.0000000000\\n[31,]   52 26.0  3.25  0.250 0.0000 0.12500 0.093750 0.0156250 0.00000000 0.033203125 0.0000000000 0.0048828125\\n[32,]   52  6.5  0.50  0.000 0.2500 0.18750 0.031250 0.0000000 0.06640625 0.000000000 0.0097656250 0.0034179688\\n[33,]   13  1.0  0.00  0.500 0.3750 0.06250 0.000000 0.1328125 0.00000000 0.019531250 0.0068359375 0.0229492188\\n[34,]    2  0.0  1.00  0.750 0.1250 0.00000 0.265625 0.0000000 0.03906250 0.013671875 0.0458984375 0.0297851562\\n[35,]    0  2.0  1.50  0.250 0.0000 0.53125 0.000000 0.0781250 0.02734375 0.091796875 0.0595703125 0.0771484375\\n[36,]    4  3.0  0.50  0.000 1.0625 0.00000 0.156250 0.0546875 0.18359375 0.119140625 0.1542968750 0.0004882812\\n[37,]    6  1.0  0.00  2.125 0.0000 0.31250 0.109375 0.3671875 0.23828125 0.308593750 0.0009765625 0.0000000000\\n[38,]    2  0.0  4.25  0.000 0.6250 0.21875 0.734375 0.4765625 0.61718750 0.001953125 0.0000000000 0.0048828125\\n[39,]    0  8.5  0.00  1.250 0.4375 1.46875 0.953125 1.2343750 0.00390625 0.000000000 0.0097656250 0.0000000000\\n[40,]   17  0.0  2.50  0.875 2.9375 1.90625 2.468750 0.0078125 0.00000000 0.019531250 0.0000000000 0.0000000000\\n[41,]    0  5.0  1.75  5.875 3.8125 4.93750 0.015625 0.0000000 0.03906250 0.000000000 0.0000000000 0.0000000000\\n[42,]   10  3.5 11.75  7.625 9.8750 0.03125 0.000000 0.0781250 0.00000000 0.000000000 0.0000000000 0.0004882812\\n[43,]    7 23.5 15.25 19.750 0.0625 0.00000 0.156250 0.0000000 0.00000000 0.000000000 0.0009765625 0.0078125000\\n[44,]   47 30.5 39.50  0.125 0.0000 0.31250 0.000000 0.0000000 0.00000000 0.001953125 0.0156250000 0.0000000000\\n[45,]   61 79.0  0.25  0.000 0.6250 0.00000 0.000000 0.0000000 0.00390625 0.031250000 0.0000000000 0.0000000000\\n[46,]  158  0.5  0.00  1.250 0.0000 0.00000 0.000000 0.0078125 0.06250000 0.000000000 0.0000000000 0.0004882812\\n[47,]    1  0.0  2.50  0.000 0.0000 0.00000 0.015625 0.1250000 0.00000000 0.000000000 0.0009765625 0.0000000000\\n[48,]    0  5.0  0.00  0.000 0.0000 0.03125 0.250000 0.0000000 0.00000000 0.001953125 0.0000000000 0.0000000000\\n[49,]   10  0.0  0.00  0.000 0.0625 0.50000 0.000000 0.0000000 0.00390625 0.000000000 0.0000000000 0.0000000000\\n[50,]    0  0.0  0.00  0.125 1.0000 0.00000 0.000000 0.0078125 0.00000000 0.000000000 0.0000000000 0.0000000000\\n[51,]    0  0.0  0.25  2.000 0.0000 0.00000 0.015625 0.0000000 0.00000000 0.000000000 0.0000000000 0.0000000000\\n[52,]    0  0.5  4.00  0.000 0.0000 0.03125 0.000000 0.0000000 0.00000000 0.000000000 0.0000000000 0.0000000000\\n[53,]    1  8.0  0.00  0.000 0.0625 0.00000 0.000000 0.0000000 0.00000000 0.000000000 0.0000000000 0.0000000000\\n[54,]   16  0.0  0.00  0.125 0.0000 0.00000 0.000000 0.0000000 0.00000000 0.000000000 0.0000000000 0.0000000000\\n[55,]    0  0.0  0.25  0.000 0.0000 0.00000 0.000000 0.0000000 0.00000000 0.000000000 0.0000000000 0.0000000000\\n[56,]    0  0.5  0.00  0.000 0.0000 0.00000 0.000000 0.0000000 0.00000000 0.000000000 0.0000000000 0.0000000000\\n</code></pre>\\n', Id=3, Tags='r matlab machine-learning', Title='R Error Invalid type (list) for variable', oneTag='r'),\n",
       " Row(Body='<p>This is probably very simple, but I simply cannot find the answer myself :( </p>\\n\\n<p>Basicaly, what I want is, given this string:</p>\\n\\n<p>\"http://www.google.com/search?hl=en&amp;q=c# objects\"</p>\\n\\n<p>I want this output:</p>\\n\\n<p><a href=\"http://www.google.com/search?hl=en&amp;q=c%23+objects\">http://www.google.com/search?hl=en&amp;q=c%23+objects</a></p>\\n\\n<p>I\\'m sure there\\'s some helper class somewhere buried in the Framework that takes care of that for me, but I\\'m having trouble finding it.</p>\\n\\n<p>EDIT: I should add, that this is for a Winforms App.</p>\\n', Id=4, Tags='c# url encoding', Title='How do I replace special characters in a URL?', oneTag='c#'),\n",
       " Row(Body='<pre><code>function modify(.......)\\n{\\n  $mcontact = file_get_contents( \"https://test.httpapi.com/api/contacts/modify.json?auth-userid=$uid&amp;auth-password=$pass&amp;contact-id=$cid&amp;name=$name &amp;company=$company&amp;email=$email&amp;address-line-1=$street&amp;city=$city&amp;country=$country&amp;zipcode=$pincode&amp;phone-cc=$countryCodeList[$phc]&amp;phone=$phone\" );\\n\\n  $mdetails = json_decode( $mcontact, true );\\n\\n  return $mdetails;\\n}\\n</code></pre>\\n\\n<p>using this modify function, displays warning mesage\\n</p>\\n\\n<pre class=\"lang-none prettyprint-override\"><code>Warning: file_get_contents(https://...@hihfg.com&amp;address-line-1=3,dfgdf,fgdf&amp;city=dfgfd&amp;country=India&amp;zipcode=641005&amp;phone-cc=91&amp;phone=756657) \\n  [function.file-get-contents]: failed to open stream: HTTP request failed!\\n  HTTP/1.0 400 Bad request in /home/gfdgfd/public_html/new_one/customer/account/class.whois.php\\n  on line 49\\n</code></pre>\\n\\n<p>Please help me, modify contact details..</p>\\n', Id=5, Tags='php api file-get-contents', Title='How to modify whois contact details?', oneTag='php')]"
      ]
     },
     "execution_count": 5,
     "metadata": {},
     "output_type": "execute_result"
    }
   ],
   "source": [
    "df.head(5)"
   ]
  },
  {
   "cell_type": "code",
   "execution_count": 7,
   "metadata": {},
   "outputs": [
    {
     "name": "stdout",
     "output_type": "stream",
     "text": [
      "+-------+--------------------+-----------------+-----------------+--------------------+------------------+\n",
      "|summary|                Body|               Id|             Tags|               Title|            oneTag|\n",
      "+-------+--------------------+-----------------+-----------------+--------------------+------------------+\n",
      "|  count|              100000|           100000|           100000|              100000|            100000|\n",
      "|   mean|                null|          50000.5|           1463.6|                null|2008.8131868131868|\n",
      "| stddev|                null|28867.65779668774|896.3760371629755|                null|1.4750675156833268|\n",
      "|    min|\n",
      "\n",
      "<p>A custom Use...|                1|        .htaccess| Accessing @Local...|         .htaccess|\n",
      "|    max|Background:\n",
      "\n",
      "<p>I...|           100000|     zyxel zywall|”doing_wp_cron” i...|    zend-framework|\n",
      "+-------+--------------------+-----------------+-----------------+--------------------+------------------+\n",
      "\n"
     ]
    }
   ],
   "source": [
    "df.describe().show()"
   ]
  },
  {
   "cell_type": "markdown",
   "metadata": {},
   "source": [
    "## Feature Engineering"
   ]
  },
  {
   "cell_type": "code",
   "execution_count": 8,
   "metadata": {},
   "outputs": [
    {
     "data": {
      "text/plain": [
       "Row(Body=\"<p>I'd like to check if an uploaded file is an image file (e.g png, jpg, jpeg, gif, bmp) or another file. The problem is that I'm using Uploadify to upload the files, which changes the mime type and gives a 'text/octal' or something as the mime type, no matter which file type you upload.</p>\\n\\n<p>Is there a way to check if the uploaded file is an image apart from checking the file extension using PHP?</p>\\n\", Id=1, Tags='php image-processing file-upload upload mime-types', Title='How to check if an uploaded file is an image without mime type?', oneTag='php', words=['p', 'i', 'd', 'like', 'to', 'check', 'if', 'an', 'uploaded', 'file', 'is', 'an', 'image', 'file', 'e', 'g', 'png', 'jpg', 'jpeg', 'gif', 'bmp', 'or', 'another', 'file', 'the', 'problem', 'is', 'that', 'i', 'm', 'using', 'uploadify', 'to', 'upload', 'the', 'files', 'which', 'changes', 'the', 'mime', 'type', 'and', 'gives', 'a', 'text', 'octal', 'or', 'something', 'as', 'the', 'mime', 'type', 'no', 'matter', 'which', 'file', 'type', 'you', 'upload', 'p', 'p', 'is', 'there', 'a', 'way', 'to', 'check', 'if', 'the', 'uploaded', 'file', 'is', 'an', 'image', 'apart', 'from', 'checking', 'the', 'file', 'extension', 'using', 'php', 'p'])"
      ]
     },
     "execution_count": 8,
     "metadata": {},
     "output_type": "execute_result"
    }
   ],
   "source": [
    "regexTokenizer = RegexTokenizer(inputCol=\"Body\", outputCol=\"words\", pattern=\"\\\\W\")\n",
    "df = regexTokenizer.transform(df)\n",
    "df.head()"
   ]
  },
  {
   "cell_type": "code",
   "execution_count": 10,
   "metadata": {},
   "outputs": [
    {
     "data": {
      "text/plain": [
       "Row(Body=\"<p>I'd like to check if an uploaded file is an image file (e.g png, jpg, jpeg, gif, bmp) or another file. The problem is that I'm using Uploadify to upload the files, which changes the mime type and gives a 'text/octal' or something as the mime type, no matter which file type you upload.</p>\\n\\n<p>Is there a way to check if the uploaded file is an image apart from checking the file extension using PHP?</p>\\n\", Id=1, Tags='php image-processing file-upload upload mime-types', Title='How to check if an uploaded file is an image without mime type?', oneTag='php', words=['p', 'i', 'd', 'like', 'to', 'check', 'if', 'an', 'uploaded', 'file', 'is', 'an', 'image', 'file', 'e', 'g', 'png', 'jpg', 'jpeg', 'gif', 'bmp', 'or', 'another', 'file', 'the', 'problem', 'is', 'that', 'i', 'm', 'using', 'uploadify', 'to', 'upload', 'the', 'files', 'which', 'changes', 'the', 'mime', 'type', 'and', 'gives', 'a', 'text', 'octal', 'or', 'something', 'as', 'the', 'mime', 'type', 'no', 'matter', 'which', 'file', 'type', 'you', 'upload', 'p', 'p', 'is', 'there', 'a', 'way', 'to', 'check', 'if', 'the', 'uploaded', 'file', 'is', 'an', 'image', 'apart', 'from', 'checking', 'the', 'file', 'extension', 'using', 'php', 'p'], BodyLength=83)"
      ]
     },
     "execution_count": 10,
     "metadata": {},
     "output_type": "execute_result"
    }
   ],
   "source": [
    "body_length = udf(lambda x: len(x), IntegerType())\n",
    "df = df.withColumn(\"BodyLength\", body_length(df.words))\n",
    "df.head()"
   ]
  },
  {
   "cell_type": "code",
   "execution_count": 11,
   "metadata": {},
   "outputs": [
    {
     "data": {
      "text/plain": [
       "Row(Body=\"<p>I'd like to check if an uploaded file is an image file (e.g png, jpg, jpeg, gif, bmp) or another file. The problem is that I'm using Uploadify to upload the files, which changes the mime type and gives a 'text/octal' or something as the mime type, no matter which file type you upload.</p>\\n\\n<p>Is there a way to check if the uploaded file is an image apart from checking the file extension using PHP?</p>\\n\", Id=1, Tags='php image-processing file-upload upload mime-types', Title='How to check if an uploaded file is an image without mime type?', oneTag='php', words=['p', 'i', 'd', 'like', 'to', 'check', 'if', 'an', 'uploaded', 'file', 'is', 'an', 'image', 'file', 'e', 'g', 'png', 'jpg', 'jpeg', 'gif', 'bmp', 'or', 'another', 'file', 'the', 'problem', 'is', 'that', 'i', 'm', 'using', 'uploadify', 'to', 'upload', 'the', 'files', 'which', 'changes', 'the', 'mime', 'type', 'and', 'gives', 'a', 'text', 'octal', 'or', 'something', 'as', 'the', 'mime', 'type', 'no', 'matter', 'which', 'file', 'type', 'you', 'upload', 'p', 'p', 'is', 'there', 'a', 'way', 'to', 'check', 'if', 'the', 'uploaded', 'file', 'is', 'an', 'image', 'apart', 'from', 'checking', 'the', 'file', 'extension', 'using', 'php', 'p'], BodyLength=83, NumParagraphs=2, NumLinks=0)"
      ]
     },
     "execution_count": 11,
     "metadata": {},
     "output_type": "execute_result"
    }
   ],
   "source": [
    "number_of_paragraphs = udf(lambda x: len(re.findall(\"</p>\", x)), IntegerType())\n",
    "number_of_links = udf(lambda x: len(re.findall(\"</a>\", x)), IntegerType())\n",
    "\n",
    "df = df.withColumn(\"NumParagraphs\", number_of_paragraphs(df.Body))\n",
    "df = df.withColumn(\"NumLinks\", number_of_links(df.Body))\n",
    "\n",
    "df.head()"
   ]
  },
  {
   "cell_type": "code",
   "execution_count": 12,
   "metadata": {},
   "outputs": [
    {
     "data": {
      "text/plain": [
       "[Row(Body=\"<p>I'd like to check if an uploaded file is an image file (e.g png, jpg, jpeg, gif, bmp) or another file. The problem is that I'm using Uploadify to upload the files, which changes the mime type and gives a 'text/octal' or something as the mime type, no matter which file type you upload.</p>\\n\\n<p>Is there a way to check if the uploaded file is an image apart from checking the file extension using PHP?</p>\\n\", Id=1, Tags='php image-processing file-upload upload mime-types', Title='How to check if an uploaded file is an image without mime type?', oneTag='php', words=['p', 'i', 'd', 'like', 'to', 'check', 'if', 'an', 'uploaded', 'file', 'is', 'an', 'image', 'file', 'e', 'g', 'png', 'jpg', 'jpeg', 'gif', 'bmp', 'or', 'another', 'file', 'the', 'problem', 'is', 'that', 'i', 'm', 'using', 'uploadify', 'to', 'upload', 'the', 'files', 'which', 'changes', 'the', 'mime', 'type', 'and', 'gives', 'a', 'text', 'octal', 'or', 'something', 'as', 'the', 'mime', 'type', 'no', 'matter', 'which', 'file', 'type', 'you', 'upload', 'p', 'p', 'is', 'there', 'a', 'way', 'to', 'check', 'if', 'the', 'uploaded', 'file', 'is', 'an', 'image', 'apart', 'from', 'checking', 'the', 'file', 'extension', 'using', 'php', 'p'], BodyLength=83, NumParagraphs=2, NumLinks=0, NumFeatures=DenseVector([83.0, 2.0, 0.0])),\n",
       " Row(Body='<p>In my favorite editor (vim), I regularly use ctrl-w to execute a certain action. Now, it quite often happens to me that firefox is the active window (on windows) while I still look at vim (thinking vim is the active window) and press ctrl-w which closes firefox. This is not what I want. Is there a way to stop ctrl-w from closing firefox?</p>\\n\\n<p>Rene</p>\\n', Id=2, Tags='firefox', Title='How can I prevent firefox from closing when I press ctrl-w', oneTag='firefox', words=['p', 'in', 'my', 'favorite', 'editor', 'vim', 'i', 'regularly', 'use', 'ctrl', 'w', 'to', 'execute', 'a', 'certain', 'action', 'now', 'it', 'quite', 'often', 'happens', 'to', 'me', 'that', 'firefox', 'is', 'the', 'active', 'window', 'on', 'windows', 'while', 'i', 'still', 'look', 'at', 'vim', 'thinking', 'vim', 'is', 'the', 'active', 'window', 'and', 'press', 'ctrl', 'w', 'which', 'closes', 'firefox', 'this', 'is', 'not', 'what', 'i', 'want', 'is', 'there', 'a', 'way', 'to', 'stop', 'ctrl', 'w', 'from', 'closing', 'firefox', 'p', 'p', 'rene', 'p'], BodyLength=71, NumParagraphs=2, NumLinks=0, NumFeatures=DenseVector([71.0, 2.0, 0.0]))]"
      ]
     },
     "execution_count": 12,
     "metadata": {},
     "output_type": "execute_result"
    }
   ],
   "source": [
    "assembler = VectorAssembler(inputCols=[\"BodyLength\", \"NumParagraphs\", \"NumLinks\"], outputCol=\"NumFeatures\")\n",
    "df = assembler.transform(df)"
   ]
  },
  {
   "cell_type": "code",
   "execution_count": null,
   "metadata": {},
   "outputs": [],
   "source": []
  }
 ],
 "metadata": {
  "kernelspec": {
   "display_name": "Python 3",
   "language": "python",
   "name": "python3"
  },
  "language_info": {
   "codemirror_mode": {
    "name": "ipython",
    "version": 3
   },
   "file_extension": ".py",
   "mimetype": "text/x-python",
   "name": "python",
   "nbconvert_exporter": "python",
   "pygments_lexer": "ipython3",
   "version": "3.6.8"
  }
 },
 "nbformat": 4,
 "nbformat_minor": 2
}
